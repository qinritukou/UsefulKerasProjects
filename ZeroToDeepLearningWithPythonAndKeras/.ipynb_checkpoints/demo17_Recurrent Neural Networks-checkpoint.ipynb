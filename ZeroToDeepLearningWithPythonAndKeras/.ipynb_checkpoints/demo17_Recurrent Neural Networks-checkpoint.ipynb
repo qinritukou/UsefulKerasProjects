{
 "cells": [
  {
   "cell_type": "code",
   "execution_count": 2,
   "metadata": {},
   "outputs": [],
   "source": [
    "import pandas as pd \n",
    "import numpy as np \n",
    "import matplotlib.pyplot as plt \n",
    "%matplotlib inline"
   ]
  },
  {
   "cell_type": "code",
   "execution_count": 3,
   "metadata": {},
   "outputs": [
    {
     "data": {
      "text/html": [
       "<div>\n",
       "<style scoped>\n",
       "    .dataframe tbody tr th:only-of-type {\n",
       "        vertical-align: middle;\n",
       "    }\n",
       "\n",
       "    .dataframe tbody tr th {\n",
       "        vertical-align: top;\n",
       "    }\n",
       "\n",
       "    .dataframe thead th {\n",
       "        text-align: right;\n",
       "    }\n",
       "</style>\n",
       "<table border=\"1\" class=\"dataframe\">\n",
       "  <thead>\n",
       "    <tr style=\"text-align: right;\">\n",
       "      <th></th>\n",
       "      <th>Adjustments</th>\n",
       "      <th>Unadjusted</th>\n",
       "      <th>Seasonally adjusted</th>\n",
       "    </tr>\n",
       "  </thead>\n",
       "  <tbody>\n",
       "    <tr>\n",
       "      <th>0</th>\n",
       "      <td>Jan-1991</td>\n",
       "      <td>12588862</td>\n",
       "      <td>15026890</td>\n",
       "    </tr>\n",
       "    <tr>\n",
       "      <th>1</th>\n",
       "      <td>Feb-1991</td>\n",
       "      <td>12154321</td>\n",
       "      <td>15304585</td>\n",
       "    </tr>\n",
       "    <tr>\n",
       "      <th>2</th>\n",
       "      <td>Mar-1991</td>\n",
       "      <td>14337072</td>\n",
       "      <td>15413591</td>\n",
       "    </tr>\n",
       "    <tr>\n",
       "      <th>3</th>\n",
       "      <td>Apr-1991</td>\n",
       "      <td>15108570</td>\n",
       "      <td>15293409</td>\n",
       "    </tr>\n",
       "    <tr>\n",
       "      <th>4</th>\n",
       "      <td>May-1991</td>\n",
       "      <td>17225734</td>\n",
       "      <td>15676083</td>\n",
       "    </tr>\n",
       "  </tbody>\n",
       "</table>\n",
       "</div>"
      ],
      "text/plain": [
       "  Adjustments  Unadjusted  Seasonally adjusted\n",
       "0    Jan-1991    12588862             15026890\n",
       "1    Feb-1991    12154321             15304585\n",
       "2    Mar-1991    14337072             15413591\n",
       "3    Apr-1991    15108570             15293409\n",
       "4    May-1991    17225734             15676083"
      ]
     },
     "execution_count": 3,
     "metadata": {},
     "output_type": "execute_result"
    }
   ],
   "source": [
    "df = pd.read_csv('data/cansim-0800020-eng-6674700030567901031.csv',\n",
    "                skiprows=6, skipfooter=9,\n",
    "                engine='python')\n",
    "df.head()"
   ]
  },
  {
   "cell_type": "code",
   "execution_count": 4,
   "metadata": {},
   "outputs": [],
   "source": [
    "from pandas.tseries.offsets import MonthEnd"
   ]
  },
  {
   "cell_type": "code",
   "execution_count": 5,
   "metadata": {},
   "outputs": [],
   "source": [
    "df['Adjustments'] = pd.to_datetime(df['Adjustments']) + MonthEnd(1)\n",
    "df = df.set_index('Adjustments')"
   ]
  },
  {
   "cell_type": "code",
   "execution_count": 7,
   "metadata": {},
   "outputs": [
    {
     "data": {
      "text/html": [
       "<div>\n",
       "<style scoped>\n",
       "    .dataframe tbody tr th:only-of-type {\n",
       "        vertical-align: middle;\n",
       "    }\n",
       "\n",
       "    .dataframe tbody tr th {\n",
       "        vertical-align: top;\n",
       "    }\n",
       "\n",
       "    .dataframe thead th {\n",
       "        text-align: right;\n",
       "    }\n",
       "</style>\n",
       "<table border=\"1\" class=\"dataframe\">\n",
       "  <thead>\n",
       "    <tr style=\"text-align: right;\">\n",
       "      <th></th>\n",
       "      <th>Unadjusted</th>\n",
       "      <th>Seasonally adjusted</th>\n",
       "    </tr>\n",
       "    <tr>\n",
       "      <th>Adjustments</th>\n",
       "      <th></th>\n",
       "      <th></th>\n",
       "    </tr>\n",
       "  </thead>\n",
       "  <tbody>\n",
       "    <tr>\n",
       "      <th>1991-01-31</th>\n",
       "      <td>12588862</td>\n",
       "      <td>15026890</td>\n",
       "    </tr>\n",
       "    <tr>\n",
       "      <th>1991-02-28</th>\n",
       "      <td>12154321</td>\n",
       "      <td>15304585</td>\n",
       "    </tr>\n",
       "    <tr>\n",
       "      <th>1991-03-31</th>\n",
       "      <td>14337072</td>\n",
       "      <td>15413591</td>\n",
       "    </tr>\n",
       "    <tr>\n",
       "      <th>1991-04-30</th>\n",
       "      <td>15108570</td>\n",
       "      <td>15293409</td>\n",
       "    </tr>\n",
       "    <tr>\n",
       "      <th>1991-05-31</th>\n",
       "      <td>17225734</td>\n",
       "      <td>15676083</td>\n",
       "    </tr>\n",
       "  </tbody>\n",
       "</table>\n",
       "</div>"
      ],
      "text/plain": [
       "             Unadjusted  Seasonally adjusted\n",
       "Adjustments                                 \n",
       "1991-01-31     12588862             15026890\n",
       "1991-02-28     12154321             15304585\n",
       "1991-03-31     14337072             15413591\n",
       "1991-04-30     15108570             15293409\n",
       "1991-05-31     17225734             15676083"
      ]
     },
     "execution_count": 7,
     "metadata": {},
     "output_type": "execute_result"
    }
   ],
   "source": [
    "df.head()"
   ]
  },
  {
   "cell_type": "code",
   "execution_count": 8,
   "metadata": {},
   "outputs": [
    {
     "data": {
      "text/plain": [
       "<matplotlib.axes._subplots.AxesSubplot at 0x7f4649ef3b38>"
      ]
     },
     "execution_count": 8,
     "metadata": {},
     "output_type": "execute_result"
    },
    {
     "data": {
      "image/png": "[encoded data removed]",
      "text/plain": [
       "<matplotlib.figure.Figure at 0x7f464a1e8780>"
      ]
     },
     "metadata": {},
     "output_type": "display_data"
    }
   ],
   "source": [
    "df.plot()"
   ]
  },
  {
   "cell_type": "code",
   "execution_count": 9,
   "metadata": {},
   "outputs": [],
   "source": [
    "split_date = pd.Timestamp('01-01-2011')"
   ]
  },
  {
   "cell_type": "code",
   "execution_count": 10,
   "metadata": {},
   "outputs": [
    {
     "data": {
      "text/plain": [
       "Timestamp('2011-01-01 00:00:00')"
      ]
     },
     "execution_count": 10,
     "metadata": {},
     "output_type": "execute_result"
    }
   ],
   "source": [
    "split_date"
   ]
  },
  {
   "cell_type": "code",
   "execution_count": 13,
   "metadata": {},
   "outputs": [],
   "source": [
    "train = df.loc[:split_date, ['Unadjusted']]\n",
    "test = df.loc[split_date:, ['Unadjusted']]"
   ]
  },
  {
   "cell_type": "code",
   "execution_count": 14,
   "metadata": {},
   "outputs": [
    {
     "data": {
      "text/plain": [
       "<matplotlib.legend.Legend at 0x7f463d844dd8>"
      ]
     },
     "execution_count": 14,
     "metadata": {},
     "output_type": "execute_result"
    },
    {
     "data": {
      "image/png": "[encoded data removed]",
      "text/plain": [
       "<matplotlib.figure.Figure at 0x7f463d844940>"
      ]
     },
     "metadata": {},
     "output_type": "display_data"
    }
   ],
   "source": [
    "ax = train.plot()\n",
    "test.plot(ax=ax)\n",
    "plt.legend(['train', 'test'])"
   ]
  },
  {
   "cell_type": "code",
   "execution_count": 17,
   "metadata": {},
   "outputs": [],
   "source": [
    "from sklearn.preprocessing import MinMaxScaler\n",
    "\n",
    "sc = MinMaxScaler()\n",
    "\n",
    "train_sc = sc.fit_transform(train)\n",
    "test_sc = sc.transform(test)"
   ]
  },
  {
   "cell_type": "code",
   "execution_count": 19,
   "metadata": {},
   "outputs": [
    {
     "data": {
      "text/plain": [
       "(240, 1)"
      ]
     },
     "execution_count": 19,
     "metadata": {},
     "output_type": "execute_result"
    }
   ],
   "source": [
    "train_sc.shape"
   ]
  },
  {
   "cell_type": "code",
   "execution_count": 20,
   "metadata": {},
   "outputs": [
    {
     "data": {
      "text/plain": [
       "(73, 1)"
      ]
     },
     "execution_count": 20,
     "metadata": {},
     "output_type": "execute_result"
    }
   ],
   "source": [
    "test_sc.shape"
   ]
  },
  {
   "cell_type": "code",
   "execution_count": 21,
   "metadata": {},
   "outputs": [],
   "source": [
    "X_train = train_sc[:-1]\n",
    "y_train = train_sc[1:]\n",
    "\n",
    "X_test = test_sc[:-1]\n",
    "y_test = test_sc[1:]"
   ]
  },
  {
   "cell_type": "code",
   "execution_count": 22,
   "metadata": {},
   "outputs": [
    {
     "data": {
      "text/plain": [
       "(239, 1)"
      ]
     },
     "execution_count": 22,
     "metadata": {},
     "output_type": "execute_result"
    }
   ],
   "source": [
    "X_train.shape"
   ]
  },
  {
   "cell_type": "code",
   "execution_count": 30,
   "metadata": {},
   "outputs": [
    {
     "name": "stderr",
     "output_type": "stream",
     "text": [
      "Using TensorFlow backend.\n"
     ]
    }
   ],
   "source": [
    "from keras.models import Sequential\n",
    "from keras.layers import Dense \n",
    "import keras.backend as K \n",
    "from keras.callbacks import EarlyStopping"
   ]
  },
  {
   "cell_type": "code",
   "execution_count": 34,
   "metadata": {},
   "outputs": [
    {
     "name": "stdout",
     "output_type": "stream",
     "text": [
      "_________________________________________________________________\n",
      "Layer (type)                 Output Shape              Param #   \n",
      "=================================================================\n",
      "dense_1 (Dense)              (None, 12)                24        \n",
      "_________________________________________________________________\n",
      "dense_2 (Dense)              (None, 1)                 13        \n",
      "=================================================================\n",
      "Total params: 37\n",
      "Trainable params: 37\n",
      "Non-trainable params: 0\n",
      "_________________________________________________________________\n"
     ]
    }
   ],
   "source": [
    "K.clear_session()\n",
    "\n",
    "model = Sequential()\n",
    "model.add(Dense(12, input_dim=1, activation='relu'))\n",
    "model.add(Dense(1))\n",
    "\n",
    "model.compile(loss='mean_squared_error', optimizer='adam')\n",
    "model.summary()"
   ]
  },
  {
   "cell_type": "code",
   "execution_count": 37,
   "metadata": {},
   "outputs": [],
   "source": [
    "early_stop = EarlyStopping(monitor='loss', patience=30, verbose=1)"
   ]
  },
  {
   "cell_type": "code",
   "execution_count": 38,
   "metadata": {},
   "outputs": [
    {
     "name": "stdout",
     "output_type": "stream",
     "text": [
      "Epoch 1/200\n",
      "239/239 [==============================] - 0s 899us/step - loss: 0.0103\n",
      "Epoch 2/200\n",
      "239/239 [==============================] - 0s 859us/step - loss: 0.0102\n",
      "Epoch 3/200\n",
      "239/239 [==============================] - 0s 856us/step - loss: 0.0100\n",
      "Epoch 4/200\n",
      "239/239 [==============================] - 0s 910us/step - loss: 0.0103\n",
      "Epoch 5/200\n",
      "239/239 [==============================] - 0s 893us/step - loss: 0.0100\n",
      "Epoch 6/200\n",
      "239/239 [==============================] - 0s 1ms/step - loss: 0.0099\n",
      "Epoch 7/200\n",
      "239/239 [==============================] - 0s 918us/step - loss: 0.0101\n",
      "Epoch 8/200\n",
      "239/239 [==============================] - 0s 884us/step - loss: 0.0099\n",
      "Epoch 9/200\n",
      "239/239 [==============================] - 0s 897us/step - loss: 0.0101\n",
      "Epoch 10/200\n",
      "239/239 [==============================] - 0s 873us/step - loss: 0.0100\n",
      "Epoch 11/200\n",
      "239/239 [==============================] - 0s 889us/step - loss: 0.0101\n",
      "Epoch 12/200\n",
      "239/239 [==============================] - 0s 871us/step - loss: 0.0100\n",
      "Epoch 13/200\n",
      "239/239 [==============================] - 0s 902us/step - loss: 0.0100\n",
      "Epoch 14/200\n",
      "239/239 [==============================] - 0s 911us/step - loss: 0.0100\n",
      "Epoch 15/200\n",
      "239/239 [==============================] - 0s 869us/step - loss: 0.0100\n",
      "Epoch 16/200\n",
      "239/239 [==============================] - 0s 887us/step - loss: 0.0099\n",
      "Epoch 17/200\n",
      "239/239 [==============================] - 0s 883us/step - loss: 0.0100\n",
      "Epoch 18/200\n",
      "239/239 [==============================] - 0s 894us/step - loss: 0.0099\n",
      "Epoch 19/200\n",
      "239/239 [==============================] - 0s 919us/step - loss: 0.0100\n",
      "Epoch 20/200\n",
      "239/239 [==============================] - 0s 899us/step - loss: 0.0103\n",
      "Epoch 21/200\n",
      "239/239 [==============================] - 0s 879us/step - loss: 0.0100\n",
      "Epoch 22/200\n",
      "239/239 [==============================] - 0s 888us/step - loss: 0.0100\n",
      "Epoch 23/200\n",
      "239/239 [==============================] - 0s 893us/step - loss: 0.0101\n",
      "Epoch 24/200\n",
      "239/239 [==============================] - 0s 876us/step - loss: 0.0100\n",
      "Epoch 25/200\n",
      "239/239 [==============================] - 0s 905us/step - loss: 0.0101\n",
      "Epoch 26/200\n",
      "239/239 [==============================] - 0s 907us/step - loss: 0.0097\n",
      "Epoch 27/200\n",
      "239/239 [==============================] - 0s 911us/step - loss: 0.0101\n",
      "Epoch 28/200\n",
      "239/239 [==============================] - 0s 927us/step - loss: 0.0100\n",
      "Epoch 29/200\n",
      "239/239 [==============================] - 0s 901us/step - loss: 0.0100\n",
      "Epoch 30/200\n",
      "239/239 [==============================] - 0s 993us/step - loss: 0.0103\n",
      "Epoch 31/200\n",
      "239/239 [==============================] - 0s 1ms/step - loss: 0.0100\n",
      "Epoch 32/200\n",
      "239/239 [==============================] - 0s 909us/step - loss: 0.0100\n",
      "Epoch 33/200\n",
      "239/239 [==============================] - 0s 976us/step - loss: 0.0101\n",
      "Epoch 34/200\n",
      "239/239 [==============================] - 0s 1ms/step - loss: 0.0099\n",
      "Epoch 35/200\n",
      "239/239 [==============================] - 0s 989us/step - loss: 0.0102\n",
      "Epoch 36/200\n",
      "239/239 [==============================] - 0s 1ms/step - loss: 0.0100\n",
      "Epoch 37/200\n",
      "239/239 [==============================] - 0s 974us/step - loss: 0.0099\n",
      "Epoch 38/200\n",
      "239/239 [==============================] - 0s 893us/step - loss: 0.0099\n",
      "Epoch 39/200\n",
      "239/239 [==============================] - 0s 880us/step - loss: 0.0101\n",
      "Epoch 40/200\n",
      "239/239 [==============================] - 0s 920us/step - loss: 0.0100\n",
      "Epoch 41/200\n",
      "239/239 [==============================] - 0s 1ms/step - loss: 0.0100\n",
      "Epoch 42/200\n",
      "239/239 [==============================] - 0s 930us/step - loss: 0.0100\n",
      "Epoch 43/200\n",
      "239/239 [==============================] - 0s 896us/step - loss: 0.0099\n",
      "Epoch 44/200\n",
      "239/239 [==============================] - 0s 914us/step - loss: 0.0099\n",
      "Epoch 45/200\n",
      "239/239 [==============================] - 0s 934us/step - loss: 0.0100\n",
      "Epoch 46/200\n",
      "239/239 [==============================] - 0s 902us/step - loss: 0.0101\n",
      "Epoch 47/200\n",
      "239/239 [==============================] - 0s 901us/step - loss: 0.0100\n",
      "Epoch 48/200\n",
      "239/239 [==============================] - 0s 992us/step - loss: 0.0099\n",
      "Epoch 49/200\n",
      "239/239 [==============================] - 0s 985us/step - loss: 0.0100\n",
      "Epoch 50/200\n",
      "239/239 [==============================] - 0s 902us/step - loss: 0.0101\n",
      "Epoch 51/200\n",
      "239/239 [==============================] - 0s 892us/step - loss: 0.0099\n",
      "Epoch 52/200\n",
      "239/239 [==============================] - 0s 908us/step - loss: 0.0100\n",
      "Epoch 53/200\n",
      "239/239 [==============================] - 0s 889us/step - loss: 0.0098\n",
      "Epoch 54/200\n",
      "239/239 [==============================] - 0s 899us/step - loss: 0.0100\n",
      "Epoch 55/200\n",
      "239/239 [==============================] - 0s 894us/step - loss: 0.0101\n",
      "Epoch 56/200\n",
      "239/239 [==============================] - 0s 856us/step - loss: 0.0100\n",
      "Epoch 00056: early stopping\n"
     ]
    },
    {
     "data": {
      "text/plain": [
       "<keras.callbacks.History at 0x7f45dfb4d8d0>"
      ]
     },
     "execution_count": 38,
     "metadata": {},
     "output_type": "execute_result"
    }
   ],
   "source": [
    "model.fit(X_train, y_train, epochs=200, batch_size=2, verbose=1, callbacks=[early_stop])"
   ]
  },
  {
   "cell_type": "code",
   "execution_count": 39,
   "metadata": {},
   "outputs": [],
   "source": [
    "y_pred = model.predict(X_test)"
   ]
  },
  {
   "cell_type": "code",
   "execution_count": 40,
   "metadata": {},
   "outputs": [
    {
     "data": {
      "text/plain": [
       "[<matplotlib.lines.Line2D at 0x7f45dc039a58>]"
      ]
     },
     "execution_count": 40,
     "metadata": {},
     "output_type": "execute_result"
    },
    {
     "data": {
      "image/png": "[encoded data removed]",
      "text/plain": [
       "<matplotlib.figure.Figure at 0x7f45dfb4d080>"
      ]
     },
     "metadata": {},
     "output_type": "display_data"
    }
   ],
   "source": [
    "plt.plot(y_test)\n",
    "plt.plot(y_pred)"
   ]
  },
  {
   "cell_type": "markdown",
   "metadata": {},
   "source": [
    "<h1>Recurrent Predictor</h1>"
   ]
  },
  {
   "cell_type": "code",
   "execution_count": 41,
   "metadata": {},
   "outputs": [],
   "source": [
    "from keras.layers import LSTM"
   ]
  },
  {
   "cell_type": "code",
   "execution_count": 42,
   "metadata": {},
   "outputs": [
    {
     "data": {
      "text/plain": [
       "(239, 1)"
      ]
     },
     "execution_count": 42,
     "metadata": {},
     "output_type": "execute_result"
    }
   ],
   "source": [
    "X_train.shape"
   ]
  },
  {
   "cell_type": "code",
   "execution_count": 43,
   "metadata": {},
   "outputs": [
    {
     "data": {
      "text/plain": [
       "(239, 1, 1)"
      ]
     },
     "execution_count": 43,
     "metadata": {},
     "output_type": "execute_result"
    }
   ],
   "source": [
    "X_train[:, None].shape"
   ]
  },
  {
   "cell_type": "code",
   "execution_count": 44,
   "metadata": {},
   "outputs": [],
   "source": [
    "X_train_t = X_train[:, None]\n",
    "X_test_t = X_test[:, None]"
   ]
  },
  {
   "cell_type": "code",
   "execution_count": 45,
   "metadata": {},
   "outputs": [],
   "source": [
    "K.clear_session()\n",
    "\n",
    "model = Sequential() \n",
    "model.add(LSTM(6, input_shape=(1, 1)))\n",
    "model.add(Dense(1))\n",
    "\n",
    "model.compile(loss='mean_squared_error', optimizer='adam')"
   ]
  },
  {
   "cell_type": "code",
   "execution_count": 46,
   "metadata": {},
   "outputs": [
    {
     "name": "stdout",
     "output_type": "stream",
     "text": [
      "Epoch 1/100\n",
      "239/239 [==============================] - 1s 5ms/step - loss: 0.1415\n",
      "Epoch 2/100\n",
      "239/239 [==============================] - 1s 4ms/step - loss: 0.0436\n",
      "Epoch 3/100\n",
      "239/239 [==============================] - 1s 3ms/step - loss: 0.0342\n",
      "Epoch 4/100\n",
      "239/239 [==============================] - 1s 4ms/step - loss: 0.0276\n",
      "Epoch 5/100\n",
      "239/239 [==============================] - 1s 4ms/step - loss: 0.0224\n",
      "Epoch 6/100\n",
      "239/239 [==============================] - 1s 3ms/step - loss: 0.0176\n",
      "Epoch 7/100\n",
      "239/239 [==============================] - 1s 4ms/step - loss: 0.0146\n",
      "Epoch 8/100\n",
      "239/239 [==============================] - 1s 4ms/step - loss: 0.0124\n",
      "Epoch 9/100\n",
      "239/239 [==============================] - 1s 4ms/step - loss: 0.0112\n",
      "Epoch 10/100\n",
      "239/239 [==============================] - 1s 3ms/step - loss: 0.0109\n",
      "Epoch 11/100\n",
      "239/239 [==============================] - 1s 3ms/step - loss: 0.0105\n",
      "Epoch 12/100\n",
      "239/239 [==============================] - 1s 4ms/step - loss: 0.0104\n",
      "Epoch 13/100\n",
      "239/239 [==============================] - 1s 4ms/step - loss: 0.0102\n",
      "Epoch 14/100\n",
      "239/239 [==============================] - 1s 4ms/step - loss: 0.0105\n",
      "Epoch 15/100\n",
      "239/239 [==============================] - 1s 4ms/step - loss: 0.0103\n",
      "Epoch 16/100\n",
      "239/239 [==============================] - 1s 4ms/step - loss: 0.0102\n",
      "Epoch 17/100\n",
      "239/239 [==============================] - 1s 4ms/step - loss: 0.0104\n",
      "Epoch 18/100\n",
      "239/239 [==============================] - 1s 4ms/step - loss: 0.0104\n",
      "Epoch 19/100\n",
      "239/239 [==============================] - 1s 4ms/step - loss: 0.0103\n",
      "Epoch 20/100\n",
      "239/239 [==============================] - 1s 4ms/step - loss: 0.0103\n",
      "Epoch 21/100\n",
      "239/239 [==============================] - 1s 4ms/step - loss: 0.0103\n",
      "Epoch 22/100\n",
      "239/239 [==============================] - 1s 4ms/step - loss: 0.0103\n",
      "Epoch 23/100\n",
      "239/239 [==============================] - 1s 4ms/step - loss: 0.0103\n",
      "Epoch 24/100\n",
      "239/239 [==============================] - 1s 4ms/step - loss: 0.0103\n",
      "Epoch 25/100\n",
      "239/239 [==============================] - 1s 4ms/step - loss: 0.0102\n",
      "Epoch 26/100\n",
      "239/239 [==============================] - 1s 3ms/step - loss: 0.0103\n",
      "Epoch 27/100\n",
      "239/239 [==============================] - 1s 4ms/step - loss: 0.0104\n",
      "Epoch 28/100\n",
      "239/239 [==============================] - 1s 4ms/step - loss: 0.0103\n",
      "Epoch 29/100\n",
      "239/239 [==============================] - 1s 4ms/step - loss: 0.0104\n",
      "Epoch 30/100\n",
      "239/239 [==============================] - 1s 4ms/step - loss: 0.0102\n",
      "Epoch 31/100\n",
      "239/239 [==============================] - 1s 4ms/step - loss: 0.0103\n",
      "Epoch 32/100\n",
      "239/239 [==============================] - 1s 4ms/step - loss: 0.0101\n",
      "Epoch 33/100\n",
      "239/239 [==============================] - 1s 3ms/step - loss: 0.0102\n",
      "Epoch 34/100\n",
      "239/239 [==============================] - 1s 4ms/step - loss: 0.0102\n",
      "Epoch 35/100\n",
      "239/239 [==============================] - 1s 4ms/step - loss: 0.0102\n",
      "Epoch 36/100\n",
      "239/239 [==============================] - 1s 4ms/step - loss: 0.0102\n",
      "Epoch 37/100\n",
      "239/239 [==============================] - 1s 4ms/step - loss: 0.0103\n",
      "Epoch 38/100\n",
      "239/239 [==============================] - 1s 4ms/step - loss: 0.0102\n",
      "Epoch 39/100\n",
      "239/239 [==============================] - 1s 4ms/step - loss: 0.0102\n",
      "Epoch 40/100\n",
      "239/239 [==============================] - 1s 4ms/step - loss: 0.0102\n",
      "Epoch 41/100\n",
      "239/239 [==============================] - 1s 4ms/step - loss: 0.0100\n",
      "Epoch 42/100\n",
      "239/239 [==============================] - 1s 4ms/step - loss: 0.0100\n",
      "Epoch 43/100\n",
      "239/239 [==============================] - 1s 4ms/step - loss: 0.0103\n",
      "Epoch 44/100\n",
      "239/239 [==============================] - 1s 4ms/step - loss: 0.0103\n",
      "Epoch 45/100\n",
      "239/239 [==============================] - 1s 4ms/step - loss: 0.0102\n",
      "Epoch 46/100\n",
      "239/239 [==============================] - 1s 4ms/step - loss: 0.0101\n",
      "Epoch 47/100\n",
      "239/239 [==============================] - 1s 4ms/step - loss: 0.0102\n",
      "Epoch 48/100\n",
      "239/239 [==============================] - 1s 4ms/step - loss: 0.0102\n",
      "Epoch 49/100\n",
      "239/239 [==============================] - 1s 4ms/step - loss: 0.0102\n",
      "Epoch 50/100\n",
      "239/239 [==============================] - 1s 4ms/step - loss: 0.0102\n",
      "Epoch 51/100\n",
      "239/239 [==============================] - 1s 4ms/step - loss: 0.0103\n",
      "Epoch 52/100\n",
      "239/239 [==============================] - 1s 4ms/step - loss: 0.0101\n",
      "Epoch 53/100\n",
      "239/239 [==============================] - 1s 4ms/step - loss: 0.0102\n",
      "Epoch 54/100\n",
      "239/239 [==============================] - 1s 4ms/step - loss: 0.0102\n",
      "Epoch 55/100\n",
      "239/239 [==============================] - 1s 4ms/step - loss: 0.0103\n",
      "Epoch 56/100\n",
      "239/239 [==============================] - 1s 4ms/step - loss: 0.0101\n",
      "Epoch 57/100\n",
      "239/239 [==============================] - 1s 4ms/step - loss: 0.0103\n",
      "Epoch 58/100\n",
      "239/239 [==============================] - 1s 4ms/step - loss: 0.0100\n",
      "Epoch 59/100\n",
      "239/239 [==============================] - 1s 4ms/step - loss: 0.0101\n",
      "Epoch 60/100\n",
      "239/239 [==============================] - 1s 4ms/step - loss: 0.0103\n",
      "Epoch 61/100\n",
      "239/239 [==============================] - 1s 4ms/step - loss: 0.0101\n",
      "Epoch 62/100\n",
      "239/239 [==============================] - 1s 3ms/step - loss: 0.0099\n",
      "Epoch 63/100\n",
      "239/239 [==============================] - 1s 4ms/step - loss: 0.0101\n",
      "Epoch 64/100\n",
      "239/239 [==============================] - 1s 4ms/step - loss: 0.0100\n",
      "Epoch 65/100\n",
      "239/239 [==============================] - 1s 4ms/step - loss: 0.0103\n",
      "Epoch 66/100\n",
      "239/239 [==============================] - 1s 4ms/step - loss: 0.0102\n",
      "Epoch 67/100\n",
      "239/239 [==============================] - 1s 4ms/step - loss: 0.0101\n",
      "Epoch 68/100\n",
      "239/239 [==============================] - 1s 4ms/step - loss: 0.0100\n",
      "Epoch 69/100\n",
      "239/239 [==============================] - 1s 4ms/step - loss: 0.0102\n",
      "Epoch 70/100\n",
      "239/239 [==============================] - 1s 4ms/step - loss: 0.0101\n",
      "Epoch 71/100\n",
      "239/239 [==============================] - 1s 4ms/step - loss: 0.0101\n",
      "Epoch 72/100\n",
      "239/239 [==============================] - 1s 4ms/step - loss: 0.0100\n",
      "Epoch 73/100\n",
      "239/239 [==============================] - 1s 4ms/step - loss: 0.0102\n",
      "Epoch 74/100\n",
      "239/239 [==============================] - 1s 4ms/step - loss: 0.0100\n",
      "Epoch 75/100\n",
      "239/239 [==============================] - 1s 4ms/step - loss: 0.0102\n",
      "Epoch 76/100\n",
      "239/239 [==============================] - 1s 4ms/step - loss: 0.0102\n",
      "Epoch 77/100\n",
      "239/239 [==============================] - 1s 4ms/step - loss: 0.0101\n",
      "Epoch 78/100\n",
      "239/239 [==============================] - 1s 4ms/step - loss: 0.0099\n",
      "Epoch 79/100\n",
      "239/239 [==============================] - 1s 4ms/step - loss: 0.0101\n",
      "Epoch 80/100\n",
      "239/239 [==============================] - 1s 4ms/step - loss: 0.0100\n",
      "Epoch 81/100\n",
      "239/239 [==============================] - 1s 4ms/step - loss: 0.0099\n",
      "Epoch 82/100\n",
      "239/239 [==============================] - 1s 4ms/step - loss: 0.0101\n",
      "Epoch 83/100\n",
      "239/239 [==============================] - 1s 4ms/step - loss: 0.0102\n",
      "Epoch 84/100\n",
      "239/239 [==============================] - 1s 4ms/step - loss: 0.0100\n",
      "Epoch 85/100\n",
      "239/239 [==============================] - 1s 4ms/step - loss: 0.0100\n",
      "Epoch 86/100\n",
      "239/239 [==============================] - 1s 4ms/step - loss: 0.0100\n",
      "Epoch 87/100\n",
      "239/239 [==============================] - 1s 4ms/step - loss: 0.0102\n",
      "Epoch 88/100\n",
      "239/239 [==============================] - 1s 4ms/step - loss: 0.0101\n",
      "Epoch 89/100\n",
      "239/239 [==============================] - 1s 4ms/step - loss: 0.0101\n",
      "Epoch 90/100\n",
      "239/239 [==============================] - 1s 4ms/step - loss: 0.0101\n",
      "Epoch 91/100\n",
      "239/239 [==============================] - 1s 4ms/step - loss: 0.0099\n",
      "Epoch 92/100\n",
      "239/239 [==============================] - 1s 4ms/step - loss: 0.0099\n",
      "Epoch 00092: early stopping\n"
     ]
    },
    {
     "data": {
      "text/plain": [
       "<keras.callbacks.History at 0x7f45dc094860>"
      ]
     },
     "execution_count": 46,
     "metadata": {},
     "output_type": "execute_result"
    }
   ],
   "source": [
    "model.fit(X_train_t, y_train, \n",
    "         epochs=100, batch_size=1, verbose=1,\n",
    "         callbacks=[early_stop])"
   ]
  },
  {
   "cell_type": "code",
   "execution_count": 48,
   "metadata": {},
   "outputs": [
    {
     "data": {
      "text/plain": [
       "[<matplotlib.lines.Line2D at 0x7f45c43cde10>]"
      ]
     },
     "execution_count": 48,
     "metadata": {},
     "output_type": "execute_result"
    },
    {
     "data": {
      "image/png": "[encoded data removed]",
      "text/plain": [
       "<matplotlib.figure.Figure at 0x7f45c4400780>"
      ]
     },
     "metadata": {},
     "output_type": "display_data"
    }
   ],
   "source": [
    "y_pred = model.predict(X_test_t)\n",
    "plt.plot(y_test)\n",
    "plt.plot(y_pred)"
   ]
  },
  {
   "cell_type": "code",
   "execution_count": null,
   "metadata": {},
   "outputs": [],
   "source": []
  }
 ],
 "metadata": {
  "kernelspec": {
   "display_name": "Python 3",
   "language": "python",
   "name": "python3"
  },
  "language_info": {
   "codemirror_mode": {
    "name": "ipython",
    "version": 3
   },
   "file_extension": ".py",
   "mimetype": "text/x-python",
   "name": "python",
   "nbconvert_exporter": "python",
   "pygments_lexer": "ipython3",
   "version": "3.6.4"
  }
 },
 "nbformat": 4,
 "nbformat_minor": 2
}
