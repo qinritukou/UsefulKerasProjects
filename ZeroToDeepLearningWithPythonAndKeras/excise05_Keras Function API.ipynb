{
 "cells": [
  {
   "cell_type": "code",
   "execution_count": 1,
   "metadata": {},
   "outputs": [],
   "source": [
    "import numpy as np \n",
    "import matplotlib.pyplot as plt \n",
    "%matplotlib inline \n",
    "import pandas as pd"
   ]
  },
  {
   "cell_type": "code",
   "execution_count": 2,
   "metadata": {},
   "outputs": [],
   "source": [
    "df = pd.read_csv('data/wines.csv')\n",
    "\n",
    "y = df['Class']\n",
    "y_cat = pd.get_dummies(y)\n",
    "X = df.drop('Class', axis=1)\n"
   ]
  },
  {
   "cell_type": "code",
   "execution_count": 3,
   "metadata": {},
   "outputs": [],
   "source": [
    "from sklearn.preprocessing import StandardScaler\n",
    "sc = StandardScaler() \n",
    "\n",
    "Xsc = sc.fit_transform(X)"
   ]
  },
  {
   "cell_type": "code",
   "execution_count": 4,
   "metadata": {},
   "outputs": [
    {
     "name": "stderr",
     "output_type": "stream",
     "text": [
      "/home/qinritukou/anaconda3/lib/python3.6/site-packages/h5py/__init__.py:36: FutureWarning: Conversion of the second argument of issubdtype from `float` to `np.floating` is deprecated. In future, it will be treated as `np.float64 == np.dtype(float).type`.\n",
      "  from ._conv import register_converters as _register_converters\n",
      "Using TensorFlow backend.\n"
     ]
    }
   ],
   "source": [
    "from keras.layers import Input, Dense \n",
    "from keras.models import Model\n",
    "import keras.backend as K\n",
    "from keras.optimizers import RMSprop\n"
   ]
  },
  {
   "cell_type": "code",
   "execution_count": 5,
   "metadata": {},
   "outputs": [
    {
     "name": "stdout",
     "output_type": "stream",
     "text": [
      "_________________________________________________________________\n",
      "Layer (type)                 Output Shape              Param #   \n",
      "=================================================================\n",
      "input_1 (InputLayer)         (None, 13)                0         \n",
      "_________________________________________________________________\n",
      "dense_1 (Dense)              (None, 8)                 112       \n",
      "_________________________________________________________________\n",
      "dense_2 (Dense)              (None, 5)                 45        \n",
      "_________________________________________________________________\n",
      "dense_3 (Dense)              (None, 2)                 12        \n",
      "_________________________________________________________________\n",
      "dense_4 (Dense)              (None, 3)                 9         \n",
      "=================================================================\n",
      "Total params: 178\n",
      "Trainable params: 178\n",
      "Non-trainable params: 0\n",
      "_________________________________________________________________\n"
     ]
    }
   ],
   "source": [
    "K.clear_session()\n",
    "\n",
    "inputs = Input(shape=(13,))\n",
    "x = Dense(8, kernel_initializer='he_normal', activation='tanh')(inputs)\n",
    "x = Dense(5, kernel_initializer='he_normal', activation='tanh')(x)\n",
    "second_to_last = Dense(2, kernel_initializer='he_normal', \n",
    "                      activation='tanh')(x)\n",
    "outputs = Dense(3, activation='softmax')(second_to_last)\n",
    "model = Model(inputs=inputs, outputs=outputs)\n",
    "model.summary()"
   ]
  },
  {
   "cell_type": "code",
   "execution_count": 6,
   "metadata": {},
   "outputs": [
    {
     "name": "stdout",
     "output_type": "stream",
     "text": [
      "Epoch 1/20\n",
      "178/178 [==============================] - 2s 11ms/step - loss: 0.7159 - acc: 0.6742\n",
      "Epoch 2/20\n",
      "178/178 [==============================] - 0s 178us/step - loss: 0.2511 - acc: 0.9438\n",
      "Epoch 3/20\n",
      "178/178 [==============================] - 0s 171us/step - loss: 0.1908 - acc: 0.9438\n",
      "Epoch 4/20\n",
      "178/178 [==============================] - 0s 175us/step - loss: 0.1268 - acc: 0.9663\n",
      "Epoch 5/20\n",
      "178/178 [==============================] - 0s 167us/step - loss: 0.0967 - acc: 0.9663\n",
      "Epoch 6/20\n",
      "178/178 [==============================] - 0s 180us/step - loss: 0.0649 - acc: 0.9888\n",
      "Epoch 7/20\n",
      "178/178 [==============================] - 0s 170us/step - loss: 0.0487 - acc: 0.9888\n",
      "Epoch 8/20\n",
      "178/178 [==============================] - 0s 186us/step - loss: 0.0391 - acc: 0.9944\n",
      "Epoch 9/20\n",
      "178/178 [==============================] - 0s 193us/step - loss: 0.0624 - acc: 0.9888\n",
      "Epoch 10/20\n",
      "178/178 [==============================] - 0s 199us/step - loss: 0.0338 - acc: 0.9944\n",
      "Epoch 11/20\n",
      "178/178 [==============================] - 0s 194us/step - loss: 0.0320 - acc: 0.9944\n",
      "Epoch 12/20\n",
      "178/178 [==============================] - 0s 195us/step - loss: 0.0318 - acc: 0.9944\n",
      "Epoch 13/20\n",
      "178/178 [==============================] - 0s 198us/step - loss: 0.0580 - acc: 0.9888\n",
      "Epoch 14/20\n",
      "178/178 [==============================] - 0s 188us/step - loss: 0.0419 - acc: 0.9888\n",
      "Epoch 15/20\n",
      "178/178 [==============================] - 0s 191us/step - loss: 0.0396 - acc: 0.9888\n",
      "Epoch 16/20\n",
      "178/178 [==============================] - 0s 184us/step - loss: 0.0340 - acc: 0.9944\n",
      "Epoch 17/20\n",
      "178/178 [==============================] - 0s 188us/step - loss: 0.1135 - acc: 0.9775\n",
      "Epoch 18/20\n",
      "178/178 [==============================] - 0s 171us/step - loss: 0.0116 - acc: 0.9944\n",
      "Epoch 19/20\n",
      "178/178 [==============================] - 0s 165us/step - loss: 0.0407 - acc: 0.9944\n",
      "Epoch 20/20\n",
      "178/178 [==============================] - 0s 173us/step - loss: 0.0019 - acc: 1.0000\n"
     ]
    },
    {
     "data": {
      "text/plain": [
       "<keras.callbacks.History at 0x7f664eb757b8>"
      ]
     },
     "execution_count": 6,
     "metadata": {},
     "output_type": "execute_result"
    }
   ],
   "source": [
    "model.compile(RMSprop(lr=0.05), 'categorical_crossentropy', metrics=['accuracy'])\n",
    "model.fit(Xsc, y_cat.values, batch_size=16, epochs=20, verbose=1)"
   ]
  },
  {
   "cell_type": "code",
   "execution_count": 7,
   "metadata": {},
   "outputs": [],
   "source": [
    "features_function = K.function([inputs], [second_to_last])"
   ]
  },
  {
   "cell_type": "code",
   "execution_count": 8,
   "metadata": {},
   "outputs": [],
   "source": [
    "features = features_function([Xsc])[0]"
   ]
  },
  {
   "cell_type": "code",
   "execution_count": 10,
   "metadata": {},
   "outputs": [
    {
     "data": {
      "text/plain": [
       "<matplotlib.collections.PathCollection at 0x7f6634671d68>"
      ]
     },
     "execution_count": 10,
     "metadata": {},
     "output_type": "execute_result"
    },
    {
     "data": {
      "image/png": "[encoded data removed]",
      "text/plain": [
       "<matplotlib.figure.Figure at 0x7f66347a2fd0>"
      ]
     },
     "metadata": {},
     "output_type": "display_data"
    }
   ],
   "source": [
    "plt.scatter(features[:,0], features[:, 1], c=y)"
   ]
  },
  {
   "cell_type": "code",
   "execution_count": 13,
   "metadata": {},
   "outputs": [],
   "source": [
    "from keras.callbacks import ModelCheckpoint, EarlyStopping, TensorBoard"
   ]
  },
  {
   "cell_type": "code",
   "execution_count": 26,
   "metadata": {},
   "outputs": [],
   "source": [
    "checkpointer = ModelCheckpoint(filepath='/tmp/checkpoint/weights.hdf5',\n",
    "                              verbose=1, save_best_only=True)"
   ]
  },
  {
   "cell_type": "code",
   "execution_count": 27,
   "metadata": {},
   "outputs": [],
   "source": [
    "earlystopper = EarlyStopping(monitor='val_loss', min_delta=0,\n",
    "                            patience=1, verbose=1, mode='auto')"
   ]
  },
  {
   "cell_type": "code",
   "execution_count": 28,
   "metadata": {},
   "outputs": [],
   "source": [
    "tensorboard = TensorBoard(log_dir='/tmp/tensorboard/')"
   ]
  },
  {
   "cell_type": "code",
   "execution_count": 29,
   "metadata": {},
   "outputs": [],
   "source": [
    "from sklearn.model_selection import train_test_split"
   ]
  },
  {
   "cell_type": "code",
   "execution_count": 30,
   "metadata": {},
   "outputs": [],
   "source": [
    "X_train, X_test, y_train, y_test = train_test_split(Xsc, y_cat.values, test_size=0.2, random_state=42)"
   ]
  },
  {
   "cell_type": "code",
   "execution_count": 34,
   "metadata": {},
   "outputs": [
    {
     "name": "stdout",
     "output_type": "stream",
     "text": [
      "Train on 142 samples, validate on 36 samples\n",
      "Epoch 1/20\n",
      " - 0s - loss: 0.7720 - acc: 0.6761 - val_loss: 0.3747 - val_acc: 0.9722\n",
      "\n",
      "Epoch 00001: val_loss did not improve\n",
      "Epoch 2/20\n",
      " - 0s - loss: 0.3394 - acc: 0.9437 - val_loss: 0.2596 - val_acc: 0.9722\n",
      "\n",
      "Epoch 00002: val_loss did not improve\n",
      "Epoch 3/20\n",
      " - 0s - loss: 0.2115 - acc: 0.9859 - val_loss: 0.1967 - val_acc: 0.9722\n",
      "\n",
      "Epoch 00003: val_loss did not improve\n",
      "Epoch 4/20\n",
      " - 0s - loss: 0.1843 - acc: 0.9718 - val_loss: 0.1155 - val_acc: 1.0000\n",
      "\n",
      "Epoch 00004: val_loss did not improve\n",
      "Epoch 5/20\n",
      " - 0s - loss: 0.1411 - acc: 0.9789 - val_loss: 0.1490 - val_acc: 0.9722\n",
      "\n",
      "Epoch 00005: val_loss did not improve\n",
      "Epoch 6/20\n",
      " - 0s - loss: 0.0929 - acc: 0.9859 - val_loss: 0.0706 - val_acc: 1.0000\n",
      "\n",
      "Epoch 00006: val_loss improved from 0.10622 to 0.07063, saving model to /tmp/checkpoint/weights.hdf5\n",
      "Epoch 7/20\n",
      " - 0s - loss: 0.0828 - acc: 0.9789 - val_loss: 0.0555 - val_acc: 1.0000\n",
      "\n",
      "Epoch 00007: val_loss improved from 0.07063 to 0.05548, saving model to /tmp/checkpoint/weights.hdf5\n",
      "Epoch 8/20\n",
      " - 0s - loss: 0.0459 - acc: 1.0000 - val_loss: 0.0448 - val_acc: 1.0000\n",
      "\n",
      "Epoch 00008: val_loss improved from 0.05548 to 0.04479, saving model to /tmp/checkpoint/weights.hdf5\n",
      "Epoch 9/20\n",
      " - 0s - loss: 0.0353 - acc: 1.0000 - val_loss: 0.0344 - val_acc: 1.0000\n",
      "\n",
      "Epoch 00009: val_loss improved from 0.04479 to 0.03439, saving model to /tmp/checkpoint/weights.hdf5\n",
      "Epoch 10/20\n",
      " - 0s - loss: 0.0277 - acc: 1.0000 - val_loss: 0.0271 - val_acc: 1.0000\n",
      "\n",
      "Epoch 00010: val_loss improved from 0.03439 to 0.02712, saving model to /tmp/checkpoint/weights.hdf5\n",
      "Epoch 11/20\n",
      " - 0s - loss: 0.0220 - acc: 1.0000 - val_loss: 0.0204 - val_acc: 1.0000\n",
      "\n",
      "Epoch 00011: val_loss improved from 0.02712 to 0.02042, saving model to /tmp/checkpoint/weights.hdf5\n",
      "Epoch 12/20\n",
      " - 0s - loss: 0.0174 - acc: 1.0000 - val_loss: 0.0159 - val_acc: 1.0000\n",
      "\n",
      "Epoch 00012: val_loss improved from 0.02042 to 0.01591, saving model to /tmp/checkpoint/weights.hdf5\n",
      "Epoch 13/20\n",
      " - 0s - loss: 0.0139 - acc: 1.0000 - val_loss: 0.0124 - val_acc: 1.0000\n",
      "\n",
      "Epoch 00013: val_loss improved from 0.01591 to 0.01243, saving model to /tmp/checkpoint/weights.hdf5\n",
      "Epoch 14/20\n",
      " - 0s - loss: 0.0111 - acc: 1.0000 - val_loss: 0.0099 - val_acc: 1.0000\n",
      "\n",
      "Epoch 00014: val_loss improved from 0.01243 to 0.00985, saving model to /tmp/checkpoint/weights.hdf5\n",
      "Epoch 15/20\n",
      " - 0s - loss: 0.0089 - acc: 1.0000 - val_loss: 0.0080 - val_acc: 1.0000\n",
      "\n",
      "Epoch 00015: val_loss improved from 0.00985 to 0.00799, saving model to /tmp/checkpoint/weights.hdf5\n",
      "Epoch 16/20\n",
      " - 0s - loss: 0.0071 - acc: 1.0000 - val_loss: 0.0065 - val_acc: 1.0000\n",
      "\n",
      "Epoch 00016: val_loss improved from 0.00799 to 0.00648, saving model to /tmp/checkpoint/weights.hdf5\n",
      "Epoch 17/20\n",
      " - 0s - loss: 0.0057 - acc: 1.0000 - val_loss: 0.0052 - val_acc: 1.0000\n",
      "\n",
      "Epoch 00017: val_loss improved from 0.00648 to 0.00515, saving model to /tmp/checkpoint/weights.hdf5\n",
      "Epoch 18/20\n",
      " - 0s - loss: 0.0046 - acc: 1.0000 - val_loss: 0.0041 - val_acc: 1.0000\n",
      "\n",
      "Epoch 00018: val_loss improved from 0.00515 to 0.00411, saving model to /tmp/checkpoint/weights.hdf5\n",
      "Epoch 19/20\n",
      " - 0s - loss: 0.0037 - acc: 1.0000 - val_loss: 0.0065 - val_acc: 1.0000\n",
      "\n",
      "Epoch 00019: val_loss did not improve\n",
      "Epoch 20/20\n",
      " - 0s - loss: 0.0034 - acc: 1.0000 - val_loss: 0.0037 - val_acc: 1.0000\n",
      "\n",
      "Epoch 00020: val_loss improved from 0.00411 to 0.00368, saving model to /tmp/checkpoint/weights.hdf5\n"
     ]
    },
    {
     "data": {
      "text/plain": [
       "<keras.callbacks.History at 0x7f65c15bad30>"
      ]
     },
     "execution_count": 34,
     "metadata": {},
     "output_type": "execute_result"
    }
   ],
   "source": [
    "K.clear_session()\n",
    "\n",
    "inputs = Input(shape=(13,))\n",
    "\n",
    "x = Dense(8, kernel_initializer='he_normal', activation='tanh')(inputs)\n",
    "x = Dense(5, kernel_initializer='he_normal', activation='tanh')(x)\n",
    "second_to_last = Dense(2, kernel_initializer='he_normal', activation='tanh')(x)\n",
    "outputs = Dense(3, activation='softmax')(second_to_last)\n",
    "\n",
    "model = Model(inputs=inputs, outputs=outputs)\n",
    "model.compile(RMSprop(lr=0.05), 'categorical_crossentropy',\n",
    "             metrics=['accuracy'])\n",
    "\n",
    "model.fit(X_train, y_train, batch_size=32, \n",
    "         epochs=20, verbose=2,\n",
    "         validation_data=(X_test, y_test),\n",
    "         callbacks=[checkpointer, tensorboard])"
   ]
  },
  {
   "cell_type": "code",
   "execution_count": 36,
   "metadata": {},
   "outputs": [
    {
     "name": "stdout",
     "output_type": "stream",
     "text": [
      "/home/qinritukou/anaconda3/lib/python3.6/site-packages/h5py/__init__.py:36: FutureWarning: Conversion of the second argument of issubdtype from `float` to `np.floating` is deprecated. In future, it will be treated as `np.float64 == np.dtype(float).type`.\n",
      "  from ._conv import register_converters as _register_converters\n",
      "\u001b[33mW0324 21:57:34.518036 Reloader tf_logging.py:121] Found more than one graph event per run, or there was a metagraph containing a graph_def, as well as one or more graph events.  Overwriting the graph with the newest event.\n",
      "\u001b[0m\u001b[33mW0324 21:57:34.520333 Reloader tf_logging.py:121] Found more than one graph event per run, or there was a metagraph containing a graph_def, as well as one or more graph events.  Overwriting the graph with the newest event.\n",
      "\u001b[0m\u001b[33mW0324 21:57:34.520582 Reloader tf_logging.py:121] Found more than one metagraph event per run. Overwriting the metagraph with the newest event.\n",
      "\u001b[0m\u001b[33mW0324 21:57:34.522233 Reloader tf_logging.py:121] Found more than one graph event per run, or there was a metagraph containing a graph_def, as well as one or more graph events.  Overwriting the graph with the newest event.\n",
      "\u001b[0m\u001b[33mW0324 21:57:34.522415 Reloader tf_logging.py:121] Found more than one metagraph event per run. Overwriting the metagraph with the newest event.\n",
      "\u001b[0m\u001b[33mW0324 21:57:34.524510 Reloader tf_logging.py:121] Found more than one graph event per run, or there was a metagraph containing a graph_def, as well as one or more graph events.  Overwriting the graph with the newest event.\n",
      "\u001b[0m\u001b[33mW0324 21:57:34.524701 Reloader tf_logging.py:121] Found more than one metagraph event per run. Overwriting the metagraph with the newest event.\n",
      "\u001b[0mTensorBoard 1.6.0 at http://ai-gamer:6006 (Press CTRL+C to quit)\n",
      "\u001b[33mW0324 21:57:36.855083 Thread-1 application.py:273] path /[[_dataImageSrc]] not found, sending 404\n",
      "\u001b[0m\u001b[33mW0324 21:57:37.769841 ProjectorPluginIsActiveThread saver.py:1076] FailedPreconditionError: /tmp/checkpoint; ディレクトリです\n",
      "\u001b[0m\u001b[33mW0324 21:57:37.769972 ProjectorPluginIsActiveThread saver.py:1077] /tmp/tensorboard/../checkpoint: Checkpoint ignored\n",
      "\u001b[0m\u001b[33mW0324 21:57:37.794830 ProjectorPluginIsActiveThread saver.py:1076] FailedPreconditionError: /tmp/checkpoint; ディレクトリです\n",
      "\u001b[0m\u001b[33mW0324 21:57:37.794957 ProjectorPluginIsActiveThread saver.py:1077] /tmp/tensorboard/../checkpoint: Checkpoint ignored\n",
      "\u001b[0m\u001b[33mW0324 21:57:50.456736 ProjectorPluginIsActiveThread saver.py:1076] FailedPreconditionError: /tmp/checkpoint; ディレクトリです\n",
      "\u001b[0m\u001b[33mW0324 21:57:50.457841 ProjectorPluginIsActiveThread saver.py:1077] /tmp/tensorboard/../checkpoint: Checkpoint ignored\n",
      "\u001b[0m\u001b[33mW0324 21:57:51.177401 ProjectorPluginIsActiveThread saver.py:1076] FailedPreconditionError: /tmp/checkpoint; ディレクトリです\n",
      "\u001b[0m\u001b[33mW0324 21:57:51.177564 ProjectorPluginIsActiveThread saver.py:1077] /tmp/tensorboard/../checkpoint: Checkpoint ignored\n",
      "\u001b[0m^C\n"
     ]
    }
   ],
   "source": [
    "!tensorboard --logdir='/tmp/tensorboard/'"
   ]
  },
  {
   "cell_type": "code",
   "execution_count": null,
   "metadata": {},
   "outputs": [],
   "source": []
  }
 ],
 "metadata": {
  "kernelspec": {
   "display_name": "Python 3",
   "language": "python",
   "name": "python3"
  },
  "language_info": {
   "codemirror_mode": {
    "name": "ipython",
    "version": 3
   },
   "file_extension": ".py",
   "mimetype": "text/x-python",
   "name": "python",
   "nbconvert_exporter": "python",
   "pygments_lexer": "ipython3",
   "version": "3.6.4"
  }
 },
 "nbformat": 4,
 "nbformat_minor": 2
}
