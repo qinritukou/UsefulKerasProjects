{
 "cells": [
  {
   "cell_type": "code",
   "execution_count": 1,
   "metadata": {},
   "outputs": [
    {
     "name": "stderr",
     "output_type": "stream",
     "text": [
      "Using TensorFlow backend.\n"
     ]
    },
    {
     "data": {
      "text/plain": [
       "400"
      ]
     },
     "execution_count": 1,
     "metadata": {},
     "output_type": "execute_result"
    }
   ],
   "source": [
    "# defining initial variables\n",
    "from keras.preprocessing.image import load_img, img_to_array \n",
    "\n",
    "target_image_path = 'img/portrait.jpg'\n",
    "style_reference_image_path = 'img/transfer_style_reference.jpg'\n",
    "\n",
    "width, height = load_img(target_image_path).size \n",
    "img_height = 400 \n",
    "img_width = int(width * img_height / height)\n",
    "img_width"
   ]
  },
  {
   "cell_type": "code",
   "execution_count": 2,
   "metadata": {},
   "outputs": [],
   "source": [
    "# auxiliary functions\n",
    "import numpy as np \n",
    "from keras.applications import vgg19 \n",
    "\n",
    "def preprocess_image(image_path):\n",
    "    img = load_img(image_path, target_size=(img_height, img_width))\n",
    "    img = img_to_array(img)\n",
    "    img = np.expand_dims(img, axis=0)\n",
    "    img = vgg19.preprocess_input(img)\n",
    "    return img \n",
    "\n",
    "def deprocess_image(x):\n",
    "    x[:, :, 0] += 103.939\n",
    "    x[:, :, 1] += 116.779\n",
    "    x[:, :, 2] += 123.68 \n",
    "    x = x[:, :, ::-1]\n",
    "    x = np.clip(x, 0, 255).astype('uint8')\n",
    "    return x"
   ]
  },
  {
   "cell_type": "code",
   "execution_count": 4,
   "metadata": {},
   "outputs": [
    {
     "name": "stdout",
     "output_type": "stream",
     "text": [
      "Downloading data from https://github.com/fchollet/deep-learning-models/releases/download/v0.1/vgg19_weights_tf_dim_ordering_tf_kernels_notop.h5\n",
      "80142336/80134624 [==============================] - 38s 0us/step\n",
      "Model loaded.\n"
     ]
    }
   ],
   "source": [
    "from keras import backend as K \n",
    "\n",
    "target_image = K.constant(preprocess_image(target_image_path))\n",
    "style_reference_image = K.constant(preprocess_image(style_reference_image_path))\n",
    "combination_image = K.placeholder((1, img_height, img_width, 3))\n",
    "\n",
    "input_tensor = K.concatenate([\n",
    "    target_image, \n",
    "    style_reference_image, \n",
    "    combination_image\n",
    "], axis = 0)\n",
    "\n",
    "model = vgg19.VGG19(input_tensor=input_tensor,\n",
    "                   weights='imagenet',\n",
    "                   include_top=False)\n",
    "print('Model loaded.')\n"
   ]
  },
  {
   "cell_type": "code",
   "execution_count": 5,
   "metadata": {},
   "outputs": [],
   "source": [
    "# content loss \n",
    "def content_loss(base, combination):\n",
    "    return K.sum(K.square(combination - base))"
   ]
  },
  {
   "cell_type": "code",
   "execution_count": 7,
   "metadata": {},
   "outputs": [],
   "source": [
    "# style loss\n",
    "def gram_matrix(x):\n",
    "    print('Before gram_matrix shape: ', x.shape)\n",
    "    features = K.batch_flatten(K.permute_dimensions(x, (2, 0, 1)))\n",
    "    gram = K.dot(features, K.transpose(features))\n",
    "    print('After gram_matrix shape: ', x.shape)\n",
    "    return gram \n",
    "\n",
    "def style_loss(style, combination):\n",
    "    S = gram_matrix(style)\n",
    "    C = gram_matrix(combination)\n",
    "    channels = 3 \n",
    "    size = img_height * img_width \n",
    "    return K.sum(K.square(S - C)) / (4. * (channels ** 2) * (size ** 2))"
   ]
  },
  {
   "cell_type": "code",
   "execution_count": 8,
   "metadata": {},
   "outputs": [],
   "source": [
    "# total variation loss \n",
    "def total_variation_loss(x):\n",
    "    a = K.square(\n",
    "        x[:, :img_height - 1, :img_width -1, :] -\n",
    "        x[:, 1:, :img_width - 1, :])\n",
    "    b = K.square(\n",
    "        x[:, :img_height - 1, :img_width - 1, :] -\n",
    "        x[:, :img_height - 1, 1:, :])\n",
    "    return K.sum(K.pow(a + b, 1.25))"
   ]
  },
  {
   "cell_type": "code",
   "execution_count": 9,
   "metadata": {},
   "outputs": [],
   "source": [
    "# defining the final loss that you'll minimize \n",
    "outputs_dict = dict([(layer.name, layer.output) for layer in model.layers])\n",
    "content_layer = 'block5_conv2'\n",
    "style_layers = [\n",
    "    'block1_conv1',\n",
    "    'block2_conv1',\n",
    "    'block3_conv1',\n",
    "    'block4_conv1',\n",
    "    'block5_conv1'\n",
    "]\n",
    "total_variation_weight = 1e-4\n",
    "style_weight = 1.\n",
    "content_weight = 0.025 "
   ]
  },
  {
   "cell_type": "code",
   "execution_count": 10,
   "metadata": {},
   "outputs": [
    {
     "name": "stdout",
     "output_type": "stream",
     "text": [
      "Before gram_matrix shape:  (400, 400, 64)\n",
      "After gram_matrix shape:  (400, 400, 64)\n",
      "Before gram_matrix shape:  (400, 400, 64)\n",
      "After gram_matrix shape:  (400, 400, 64)\n",
      "Before gram_matrix shape:  (200, 200, 128)\n",
      "After gram_matrix shape:  (200, 200, 128)\n",
      "Before gram_matrix shape:  (200, 200, 128)\n",
      "After gram_matrix shape:  (200, 200, 128)\n",
      "Before gram_matrix shape:  (100, 100, 256)\n",
      "After gram_matrix shape:  (100, 100, 256)\n",
      "Before gram_matrix shape:  (100, 100, 256)\n",
      "After gram_matrix shape:  (100, 100, 256)\n",
      "Before gram_matrix shape:  (50, 50, 512)\n",
      "After gram_matrix shape:  (50, 50, 512)\n",
      "Before gram_matrix shape:  (50, 50, 512)\n",
      "After gram_matrix shape:  (50, 50, 512)\n",
      "Before gram_matrix shape:  (25, 25, 512)\n",
      "After gram_matrix shape:  (25, 25, 512)\n",
      "Before gram_matrix shape:  (25, 25, 512)\n",
      "After gram_matrix shape:  (25, 25, 512)\n"
     ]
    }
   ],
   "source": [
    "loss = K.variable(0.)\n",
    "layer_features = outputs_dict[content_layer]\n",
    "target_image_features = layer_features[0, :, :, :]\n",
    "combination_features = layer_features[2, :, :, :]\n",
    "loss += content_weight * content_loss(target_image_features, \n",
    "                                     combination_features)\n",
    "\n",
    "for layer_name in style_layers:\n",
    "    layer_features = outputs_dict[layer_name]\n",
    "    style_reference_features = layer_features[1, :, :, :]\n",
    "    combination_features = layer_features[2, :, :, :]\n",
    "    sl = style_loss(style_reference_features, combination_features)\n",
    "    loss += (style_weight / len(style_layers)) * sl \n",
    "\n",
    "loss += total_variation_weight * total_variation_loss(combination_image)"
   ]
  },
  {
   "cell_type": "code",
   "execution_count": 12,
   "metadata": {},
   "outputs": [],
   "source": [
    "# setting up the gradient-descent process \n",
    "grads = K.gradients(loss, combination_image)[0]\n",
    "fetch_loss_and_grads = K.function([combination_image], [loss, grads])\n",
    "\n",
    "class Evaluator(object):\n",
    "    def __init__(self):\n",
    "        self.loss_value = None \n",
    "        self.grad_values = None \n",
    "    \n",
    "    def loss(self, x):\n",
    "        assert self.loss_value is None \n",
    "        x = x.reshape((1, img_height, img_width, 3))\n",
    "        outs = fetch_loss_and_grads([x])\n",
    "        loss_value = outs[0]\n",
    "        grad_values = outs[1].flatten().astype('float64')\n",
    "        self.loss_value = loss_value\n",
    "        self.grad_values = grad_values \n",
    "        return self.loss_value \n",
    "    \n",
    "    def grads(self, x):\n",
    "        assert self.loss_value is not None \n",
    "        grad_values = np.copy(self.grad_values)\n",
    "        self.loss_value = None \n",
    "        self.grad_values = None \n",
    "        return grad_values "
   ]
  },
  {
   "cell_type": "code",
   "execution_count": 13,
   "metadata": {},
   "outputs": [],
   "source": [
    "evaluator = Evaluator()"
   ]
  },
  {
   "cell_type": "code",
   "execution_count": 14,
   "metadata": {},
   "outputs": [],
   "source": [
    "from scipy.optimize import fmin_l_bfgs_b\n",
    "from scipy.misc import imsave \n",
    "import time"
   ]
  },
  {
   "cell_type": "code",
   "execution_count": null,
   "metadata": {},
   "outputs": [
    {
     "name": "stdout",
     "output_type": "stream",
     "text": [
      "Start of iteration 0\n",
      "Current loss value: 2.84137e+09\n",
      "Image saved as my_result_at_iteration_0.png\n",
      "Iteration 0 completed in 246s\n",
      "Start of iteration 1\n"
     ]
    },
    {
     "name": "stderr",
     "output_type": "stream",
     "text": [
      "/Users/developer/anaconda/lib/python3.5/site-packages/ipykernel/__main__.py:18: DeprecationWarning: `imsave` is deprecated!\n",
      "`imsave` is deprecated in SciPy 1.0.0, and will be removed in 1.2.0.\n",
      "Use ``imageio.imwrite`` instead.\n"
     ]
    },
    {
     "name": "stdout",
     "output_type": "stream",
     "text": [
      "Current loss value: 1.2131e+09\n",
      "Image saved as my_result_at_iteration_1.png\n",
      "Iteration 1 completed in 253s\n",
      "Start of iteration 2\n",
      "Current loss value: 8.80637e+08\n",
      "Image saved as my_result_at_iteration_2.png\n",
      "Iteration 2 completed in 247s\n",
      "Start of iteration 3\n",
      "Current loss value: 7.14887e+08\n",
      "Image saved as my_result_at_iteration_3.png\n",
      "Iteration 3 completed in 247s\n",
      "Start of iteration 4\n",
      "Current loss value: 5.39115e+08\n",
      "Image saved as my_result_at_iteration_4.png\n",
      "Iteration 4 completed in 251s\n",
      "Start of iteration 5\n",
      "Current loss value: 4.44659e+08\n",
      "Image saved as my_result_at_iteration_5.png\n",
      "Iteration 5 completed in 242s\n",
      "Start of iteration 6\n",
      "Current loss value: 3.83124e+08\n",
      "Image saved as my_result_at_iteration_6.png\n",
      "Iteration 6 completed in 241s\n",
      "Start of iteration 7\n",
      "Current loss value: 3.40454e+08\n",
      "Image saved as my_result_at_iteration_7.png\n",
      "Iteration 7 completed in 239s\n",
      "Start of iteration 8\n",
      "Current loss value: 3.00341e+08\n",
      "Image saved as my_result_at_iteration_8.png\n",
      "Iteration 8 completed in 241s\n",
      "Start of iteration 9\n",
      "Current loss value: 2.68535e+08\n",
      "Image saved as my_result_at_iteration_9.png\n",
      "Iteration 9 completed in 246s\n",
      "Start of iteration 10\n",
      "Current loss value: 2.41345e+08\n",
      "Image saved as my_result_at_iteration_10.png\n",
      "Iteration 10 completed in 261s\n",
      "Start of iteration 11\n",
      "Current loss value: 2.19919e+08\n",
      "Image saved as my_result_at_iteration_11.png\n",
      "Iteration 11 completed in 393s\n",
      "Start of iteration 12\n",
      "Current loss value: 2.04206e+08\n",
      "Image saved as my_result_at_iteration_12.png\n",
      "Iteration 12 completed in 464s\n",
      "Start of iteration 13\n",
      "Current loss value: 1.87868e+08\n",
      "Image saved as my_result_at_iteration_13.png\n",
      "Iteration 13 completed in 477s\n",
      "Start of iteration 14\n",
      "Current loss value: 1.7438e+08\n",
      "Image saved as my_result_at_iteration_14.png\n",
      "Iteration 14 completed in 483s\n",
      "Start of iteration 15\n",
      "Current loss value: 1.64811e+08\n",
      "Image saved as my_result_at_iteration_15.png\n",
      "Iteration 15 completed in 515s\n",
      "Start of iteration 16\n",
      "Current loss value: 1.55204e+08\n",
      "Image saved as my_result_at_iteration_16.png\n",
      "Iteration 16 completed in 493s\n",
      "Start of iteration 17\n",
      "Current loss value: 1.48088e+08\n",
      "Image saved as my_result_at_iteration_17.png\n",
      "Iteration 17 completed in 472s\n",
      "Start of iteration 18\n"
     ]
    }
   ],
   "source": [
    "result_prefix = 'my_result'\n",
    "iterations = 20 \n",
    "\n",
    "x = preprocess_image(target_image_path)\n",
    "x = x.flatten() \n",
    "\n",
    "for i in range(iterations):\n",
    "    print('Start of iteration', i)\n",
    "    start_time = time.time() \n",
    "    x, min_val, info = fmin_l_bfgs_b(evaluator.loss, \n",
    "                                    x, \n",
    "                                    fprime=evaluator.grads,\n",
    "                                    maxfun=20)\n",
    "    print('Current loss value:', min_val)\n",
    "    img = x.copy().reshape((img_height, img_width, 3))\n",
    "    img = deprocess_image(img)\n",
    "    fname = result_prefix + '_at_iteration_%d.png' % i\n",
    "    imsave(fname, img)\n",
    "    print('Image saved as', fname)\n",
    "    end_time = time.time() \n",
    "    print('Iteration %d completed in %ds' % (i, end_time - start_time))\n",
    "    "
   ]
  },
  {
   "cell_type": "code",
   "execution_count": null,
   "metadata": {},
   "outputs": [],
   "source": []
  }
 ],
 "metadata": {
  "kernelspec": {
   "display_name": "Python [default]",
   "language": "python",
   "name": "python3"
  },
  "language_info": {
   "codemirror_mode": {
    "name": "ipython",
    "version": 3
   },
   "file_extension": ".py",
   "mimetype": "text/x-python",
   "name": "python",
   "nbconvert_exporter": "python",
   "pygments_lexer": "ipython3",
   "version": "3.5.4"
  }
 },
 "nbformat": 4,
 "nbformat_minor": 2
}
