{
 "cells": [
  {
   "cell_type": "code",
   "execution_count": 4,
   "metadata": {},
   "outputs": [
    {
     "name": "stdout",
     "output_type": "stream",
     "text": [
      "Downloading data from https://s3.amazonaws.com/text-datasets/imdb.npz\n",
      "17465344/17464789 [==============================] - 20s 1us/step\n"
     ]
    }
   ],
   "source": [
    "from keras.datasets import imdb\n",
    "\n",
    "(train_data, train_labels), (test_data, test_labels) = imdb.load_data(num_words=10000)"
   ]
  },
  {
   "cell_type": "code",
   "execution_count": 7,
   "metadata": {},
   "outputs": [
    {
     "data": {
      "text/plain": [
       "(25000,)"
      ]
     },
     "execution_count": 7,
     "metadata": {},
     "output_type": "execute_result"
    }
   ],
   "source": [
    "train_data.shape"
   ]
  },
  {
   "cell_type": "code",
   "execution_count": 10,
   "metadata": {},
   "outputs": [
    {
     "data": {
      "text/plain": [
       "(25000,)"
      ]
     },
     "execution_count": 10,
     "metadata": {},
     "output_type": "execute_result"
    }
   ],
   "source": [
    "train_labels.shape"
   ]
  },
  {
   "cell_type": "code",
   "execution_count": 11,
   "metadata": {},
   "outputs": [
    {
     "data": {
      "text/plain": [
       "9999"
      ]
     },
     "execution_count": 11,
     "metadata": {},
     "output_type": "execute_result"
    }
   ],
   "source": [
    "max([max(sequence) for sequence in train_data])"
   ]
  },
  {
   "cell_type": "code",
   "execution_count": 13,
   "metadata": {},
   "outputs": [],
   "source": [
    "word_index = imdb.get_word_index() \n",
    "reverse_word_index = dict([(value, key) for (key, value) in word_index.items()])\n",
    "decoded_review = ' '.join([reverse_word_index.get(i - 3, '?') for i in train_data[0]])"
   ]
  },
  {
   "cell_type": "code",
   "execution_count": 14,
   "metadata": {},
   "outputs": [
    {
     "data": {
      "text/plain": [
       "\"? this film was just brilliant casting location scenery story direction everyone's really suited the part they played and you could just imagine being there robert ? is an amazing actor and now the same being director ? father came from the same scottish island as myself so i loved the fact there was a real connection with this film the witty remarks throughout the film were great it was just brilliant so much that i bought the film as soon as it was released for ? and would recommend it to everyone to watch and the fly fishing was amazing really cried at the end it was so sad and you know what they say if you cry at a film it must have been good and this definitely was also ? to the two little boy's that played the ? of norman and paul they were just brilliant children are often left out of the ? list i think because the stars that play them all grown up are such a big profile for the whole film but these children are amazing and should be praised for what they have done don't you think the whole story was so lovely because it was true and was someone's life after all that was shared with us all\""
      ]
     },
     "execution_count": 14,
     "metadata": {},
     "output_type": "execute_result"
    }
   ],
   "source": [
    "decoded_review"
   ]
  },
  {
   "cell_type": "code",
   "execution_count": 16,
   "metadata": {},
   "outputs": [],
   "source": [
    "import numpy as np \n",
    "def vectorize_sequences(sequences, dimension=10000):\n",
    "    results = np.zeros((len(sequences), dimension))\n",
    "    for i, sequence in enumerate(sequences):\n",
    "        results[i, sequence] = 1.\n",
    "    return results\n",
    "\n",
    "x_train = vectorize_sequences(train_data)\n",
    "x_test = vectorize_sequences(test_data)"
   ]
  },
  {
   "cell_type": "code",
   "execution_count": 18,
   "metadata": {},
   "outputs": [
    {
     "data": {
      "text/plain": [
       "array([ 0.,  1.,  1., ...,  0.,  0.,  0.])"
      ]
     },
     "execution_count": 18,
     "metadata": {},
     "output_type": "execute_result"
    }
   ],
   "source": [
    "x_train[0]"
   ]
  },
  {
   "cell_type": "code",
   "execution_count": 19,
   "metadata": {},
   "outputs": [],
   "source": [
    "y_train = np.asarray(train_labels).astype('float32')\n",
    "y_test = np.asarray(test_labels).astype('float32')"
   ]
  },
  {
   "cell_type": "code",
   "execution_count": 21,
   "metadata": {},
   "outputs": [],
   "source": [
    "# model definition\n",
    "from keras import models \n",
    "from keras import layers \n",
    "\n",
    "model = models.Sequential() \n",
    "model.add(layers.Dense(16, activation='relu', input_shape=(10000,)))\n",
    "model.add(layers.Dense(16, activation='relu'))\n",
    "model.add(layers.Dense(1, activation='sigmoid'))"
   ]
  },
  {
   "cell_type": "code",
   "execution_count": 25,
   "metadata": {},
   "outputs": [],
   "source": [
    "# compile model \n",
    "from keras import optimizers\n",
    "from keras import losses \n",
    "from keras import metrics\n",
    "model.compile(optimizer=optimizers.RMSprop(lr=0.001),\n",
    "             loss=losses.binary_crossentropy,\n",
    "             metrics=[metrics.binary_accuracy])"
   ]
  },
  {
   "cell_type": "code",
   "execution_count": 26,
   "metadata": {},
   "outputs": [],
   "source": [
    "# validating \n",
    "x_val = x_train[:10000]\n",
    "partial_x_train = x_train[10000:]\n",
    "y_val = y_train[:10000]\n",
    "partial_y_train = y_train[10000:]"
   ]
  },
  {
   "cell_type": "code",
   "execution_count": 50,
   "metadata": {},
   "outputs": [
    {
     "name": "stdout",
     "output_type": "stream",
     "text": [
      "Train on 15000 samples, validate on 10000 samples\n",
      "Epoch 1/20\n",
      "15000/15000 [==============================] - 2s 116us/step - loss: 0.2954 - binary_accuracy: 0.9053 - val_loss: 0.3046 - val_binary_accuracy: 0.8839\n",
      "Epoch 2/20\n",
      "15000/15000 [==============================] - 2s 119us/step - loss: 0.2150 - binary_accuracy: 0.9308 - val_loss: 0.2884 - val_binary_accuracy: 0.8845\n",
      "Epoch 3/20\n",
      "15000/15000 [==============================] - 2s 126us/step - loss: 0.1710 - binary_accuracy: 0.9437 - val_loss: 0.3670 - val_binary_accuracy: 0.8519\n",
      "Epoch 4/20\n",
      "15000/15000 [==============================] - 2s 120us/step - loss: 0.1413 - binary_accuracy: 0.9536 - val_loss: 0.2932 - val_binary_accuracy: 0.8829\n",
      "Epoch 5/20\n",
      "15000/15000 [==============================] - 2s 120us/step - loss: 0.1165 - binary_accuracy: 0.9632 - val_loss: 0.3290 - val_binary_accuracy: 0.8763\n",
      "Epoch 6/20\n",
      "15000/15000 [==============================] - 2s 118us/step - loss: 0.0938 - binary_accuracy: 0.9723 - val_loss: 0.3257 - val_binary_accuracy: 0.8820\n",
      "Epoch 7/20\n",
      "15000/15000 [==============================] - 2s 138us/step - loss: 0.0810 - binary_accuracy: 0.9757 - val_loss: 0.3389 - val_binary_accuracy: 0.8825\n",
      "Epoch 8/20\n",
      "15000/15000 [==============================] - 2s 121us/step - loss: 0.0667 - binary_accuracy: 0.9818 - val_loss: 0.3594 - val_binary_accuracy: 0.8807\n",
      "Epoch 9/20\n",
      "15000/15000 [==============================] - 2s 133us/step - loss: 0.0537 - binary_accuracy: 0.9861 - val_loss: 0.3875 - val_binary_accuracy: 0.8771\n",
      "Epoch 10/20\n",
      "15000/15000 [==============================] - 2s 130us/step - loss: 0.0449 - binary_accuracy: 0.9890 - val_loss: 0.4499 - val_binary_accuracy: 0.8694\n",
      "Epoch 11/20\n",
      "15000/15000 [==============================] - 2s 133us/step - loss: 0.0379 - binary_accuracy: 0.9910 - val_loss: 0.4403 - val_binary_accuracy: 0.8740\n",
      "Epoch 12/20\n",
      "15000/15000 [==============================] - 2s 122us/step - loss: 0.0317 - binary_accuracy: 0.9931 - val_loss: 0.4692 - val_binary_accuracy: 0.8743\n",
      "Epoch 13/20\n",
      "15000/15000 [==============================] - 2s 119us/step - loss: 0.0229 - binary_accuracy: 0.9962 - val_loss: 0.5021 - val_binary_accuracy: 0.8724\n",
      "Epoch 14/20\n",
      "15000/15000 [==============================] - 2s 123us/step - loss: 0.0215 - binary_accuracy: 0.9956 - val_loss: 0.5281 - val_binary_accuracy: 0.8699\n",
      "Epoch 15/20\n",
      "15000/15000 [==============================] - 2s 124us/step - loss: 0.0164 - binary_accuracy: 0.9973 - val_loss: 0.5631 - val_binary_accuracy: 0.8694\n",
      "Epoch 16/20\n",
      "15000/15000 [==============================] - 2s 121us/step - loss: 0.0120 - binary_accuracy: 0.9988 - val_loss: 0.5938 - val_binary_accuracy: 0.8707\n",
      "Epoch 17/20\n",
      "15000/15000 [==============================] - 2s 120us/step - loss: 0.0102 - binary_accuracy: 0.9986 - val_loss: 0.6280 - val_binary_accuracy: 0.8677\n",
      "Epoch 18/20\n",
      "15000/15000 [==============================] - 2s 120us/step - loss: 0.0101 - binary_accuracy: 0.9977 - val_loss: 0.6628 - val_binary_accuracy: 0.8666\n",
      "Epoch 19/20\n",
      "15000/15000 [==============================] - 2s 123us/step - loss: 0.0044 - binary_accuracy: 0.9999 - val_loss: 0.6922 - val_binary_accuracy: 0.8665\n",
      "Epoch 20/20\n",
      "15000/15000 [==============================] - 2s 128us/step - loss: 0.0071 - binary_accuracy: 0.9985 - val_loss: 0.7262 - val_binary_accuracy: 0.8650\n"
     ]
    }
   ],
   "source": [
    "# train model \n",
    "history = model.fit(partial_x_train, \n",
    "                   partial_y_train, \n",
    "                   epochs=20,\n",
    "                   batch_size=512,\n",
    "                   validation_data = (x_val, y_val))"
   ]
  },
  {
   "cell_type": "code",
   "execution_count": 51,
   "metadata": {},
   "outputs": [],
   "source": [
    "history_dict = history.history"
   ]
  },
  {
   "cell_type": "code",
   "execution_count": 52,
   "metadata": {},
   "outputs": [
    {
     "data": {
      "text/plain": [
       "dict_keys(['binary_accuracy', 'val_loss', 'loss', 'val_binary_accuracy'])"
      ]
     },
     "execution_count": 52,
     "metadata": {},
     "output_type": "execute_result"
    }
   ],
   "source": [
    "history_dict.keys()"
   ]
  },
  {
   "cell_type": "code",
   "execution_count": 54,
   "metadata": {},
   "outputs": [
    {
     "data": {
      "image/png": "[encoded data removed]",
      "text/plain": [
       "<matplotlib.figure.Figure at 0x115f2a198>"
      ]
     },
     "metadata": {},
     "output_type": "display_data"
    }
   ],
   "source": [
    "import matplotlib.pyplot as plt\n",
    "%matplotlib inline  \n",
    "\n",
    "loss_values = history_dict['loss']\n",
    "val_loss_values = history_dict['val_loss']\n",
    "acc = history_dict['binary_accuracy']\n",
    "\n",
    "epochs = range(1, len(loss_values) + 1)\n",
    "val_loss_values\n",
    "\n",
    "plt.plot(epochs, loss_values, 'bo', label='Training loss')\n",
    "plt.plot(epochs, val_loss_values, 'b', label='Validation loss')\n",
    "plt.title('Trianing and validation loss')\n",
    "plt.xlabel('Epochs')\n",
    "plt.ylabel('Loss')\n",
    "plt.legend()\n",
    "\n",
    "plt.show()"
   ]
  },
  {
   "cell_type": "code",
   "execution_count": null,
   "metadata": {},
   "outputs": [],
   "source": [
    "#"
   ]
  }
 ],
 "metadata": {
  "kernelspec": {
   "display_name": "Python [default]",
   "language": "python",
   "name": "python3"
  },
  "language_info": {
   "codemirror_mode": {
    "name": "ipython",
    "version": 3
   },
   "file_extension": ".py",
   "mimetype": "text/x-python",
   "name": "python",
   "nbconvert_exporter": "python",
   "pygments_lexer": "ipython3",
   "version": "3.5.4"
  }
 },
 "nbformat": 4,
 "nbformat_minor": 2
}
