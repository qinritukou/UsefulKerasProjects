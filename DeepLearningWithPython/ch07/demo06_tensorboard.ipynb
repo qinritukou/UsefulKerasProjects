{
 "cells": [
  {
   "cell_type": "code",
   "execution_count": 1,
   "metadata": {},
   "outputs": [
    {
     "name": "stderr",
     "output_type": "stream",
     "text": [
      "Using TensorFlow backend.\n"
     ]
    }
   ],
   "source": [
    "import keras \n",
    "from keras import layers \n",
    "from keras.datasets import imdb \n",
    "from keras.preprocessing import sequence"
   ]
  },
  {
   "cell_type": "code",
   "execution_count": 3,
   "metadata": {},
   "outputs": [
    {
     "name": "stdout",
     "output_type": "stream",
     "text": [
      "_________________________________________________________________\n",
      "Layer (type)                 Output Shape              Param #   \n",
      "=================================================================\n",
      "embed (Embedding)            (None, 500, 128)          256000    \n",
      "_________________________________________________________________\n",
      "conv1d_3 (Conv1D)            (None, 494, 32)           28704     \n",
      "_________________________________________________________________\n",
      "max_pooling1d_2 (MaxPooling1 (None, 98, 32)            0         \n",
      "_________________________________________________________________\n",
      "conv1d_4 (Conv1D)            (None, 92, 32)            7200      \n",
      "_________________________________________________________________\n",
      "global_max_pooling1d_1 (Glob (None, 32)                0         \n",
      "_________________________________________________________________\n",
      "dense_1 (Dense)              (None, 1)                 33        \n",
      "=================================================================\n",
      "Total params: 291,937\n",
      "Trainable params: 291,937\n",
      "Non-trainable params: 0\n",
      "_________________________________________________________________\n"
     ]
    }
   ],
   "source": [
    "max_features = 2000\n",
    "max_len = 500 \n",
    "\n",
    "(x_train, y_train), (x_test, y_test) = imdb.load_data(num_words = max_features)\n",
    "x_train = sequence.pad_sequences(x_train, maxlen=max_len)\n",
    "x_test = sequence.pad_sequences(x_test, maxlen=max_len)\n",
    "\n",
    "model = keras.models.Sequential() \n",
    "model.add(layers.Embedding(max_features, 128, \n",
    "                          input_length = max_len,\n",
    "                          name='embed'))\n",
    "model.add(layers.Conv1D(32, 7, activation='relu'))\n",
    "model.add(layers.MaxPooling1D(5))\n",
    "model.add(layers.Conv1D(32, 7, activation='relu'))\n",
    "model.add(layers.GlobalMaxPooling1D())\n",
    "model.add(layers.Dense(1))\n",
    "model.summary() \n",
    "model.compile(optimizer='rmsprop',\n",
    "             loss='binary_crossentropy',\n",
    "             metrics=['acc'])\n"
   ]
  },
  {
   "cell_type": "code",
   "execution_count": 4,
   "metadata": {},
   "outputs": [],
   "source": [
    "!mkdir my_log_dir"
   ]
  },
  {
   "cell_type": "code",
   "execution_count": null,
   "metadata": {},
   "outputs": [
    {
     "name": "stdout",
     "output_type": "stream",
     "text": [
      "Train on 20000 samples, validate on 5000 samples\n",
      "Epoch 1/20\n",
      "20000/20000 [==============================] - 47s 2ms/step - loss: 0.6384 - acc: 0.6523 - val_loss: 0.4172 - val_acc: 0.8316\n",
      "Epoch 2/20\n",
      "20000/20000 [==============================] - 46s 2ms/step - loss: 0.4323 - acc: 0.8282 - val_loss: 0.4242 - val_acc: 0.8348\n",
      "Epoch 3/20\n",
      "20000/20000 [==============================] - 46s 2ms/step - loss: 0.3895 - acc: 0.7947 - val_loss: 0.4576 - val_acc: 0.8008\n",
      "Epoch 4/20\n",
      "20000/20000 [==============================] - 47s 2ms/step - loss: 0.3425 - acc: 0.7812 - val_loss: 0.4760 - val_acc: 0.7708\n",
      "Epoch 5/20\n",
      "20000/20000 [==============================] - 49s 2ms/step - loss: 0.2982 - acc: 0.7441 - val_loss: 0.5187 - val_acc: 0.7218\n",
      "Epoch 6/20\n",
      "20000/20000 [==============================] - 46s 2ms/step - loss: 0.2783 - acc: 0.7097 - val_loss: 0.5518 - val_acc: 0.6824\n",
      "Epoch 7/20\n",
      "20000/20000 [==============================] - 47s 2ms/step - loss: 0.2473 - acc: 0.6604 - val_loss: 1.0795 - val_acc: 0.4958\n",
      "Epoch 8/20\n",
      "20000/20000 [==============================] - 47s 2ms/step - loss: 0.2091 - acc: 0.6051 - val_loss: 0.6856 - val_acc: 0.5918\n",
      "Epoch 9/20\n",
      "20000/20000 [==============================] - 47s 2ms/step - loss: 0.1618 - acc: 0.5854 - val_loss: 0.7685 - val_acc: 0.4950\n",
      "Epoch 10/20\n",
      "20000/20000 [==============================] - 47s 2ms/step - loss: 0.1454 - acc: 0.4765 - val_loss: 1.0743 - val_acc: 0.3958\n",
      "Epoch 11/20\n",
      "20000/20000 [==============================] - 47s 2ms/step - loss: 0.1268 - acc: 0.4098 - val_loss: 0.9433 - val_acc: 0.3708\n",
      "Epoch 12/20\n",
      "20000/20000 [==============================] - 47s 2ms/step - loss: 0.1136 - acc: 0.3587 - val_loss: 1.1062 - val_acc: 0.3316\n",
      "Epoch 13/20\n",
      "20000/20000 [==============================] - 48s 2ms/step - loss: 0.1098 - acc: 0.3139 - val_loss: 1.0498 - val_acc: 0.3110\n",
      "Epoch 14/20\n",
      "20000/20000 [==============================] - 49s 2ms/step - loss: 0.1024 - acc: 0.2731 - val_loss: 1.0668 - val_acc: 0.3062\n",
      "Epoch 15/20\n",
      "20000/20000 [==============================] - 52s 3ms/step - loss: 0.1055 - acc: 0.2400 - val_loss: 1.2196 - val_acc: 0.2642\n",
      "Epoch 16/20\n",
      "20000/20000 [==============================] - 49s 2ms/step - loss: 0.1008 - acc: 0.2086 - val_loss: 1.4522 - val_acc: 0.2696\n",
      "Epoch 17/20\n",
      "20000/20000 [==============================] - 48s 2ms/step - loss: 0.1043 - acc: 0.1892 - val_loss: 1.1839 - val_acc: 0.2502\n",
      "Epoch 18/20\n",
      "20000/20000 [==============================] - 51s 3ms/step - loss: 0.1004 - acc: 0.1717 - val_loss: 1.2353 - val_acc: 0.2322\n",
      "Epoch 19/20\n",
      "20000/20000 [==============================] - 50s 3ms/step - loss: 0.1000 - acc: 0.1440 - val_loss: 1.2347 - val_acc: 0.2386\n",
      "Epoch 20/20\n",
      "20000/20000 [==============================] - 50s 3ms/step - loss: 0.1094 - acc: 0.1418 - val_loss: 1.2439 - val_acc: 0.2278\n"
     ]
    }
   ],
   "source": [
    "callbacks = [\n",
    "    keras.callbacks.TensorBoard(\n",
    "        log_dir='my_log_dir',\n",
    "        histogram_freq=1,\n",
    "        embeddings_freq=1\n",
    "    )\n",
    "]\n",
    "history = model.fit(x_train, y_train, \n",
    "                    epochs=20,\n",
    "                    batch_size=128,\n",
    "                    validation_split=0.2,\n",
    "                   callbacks=callbacks)"
   ]
  },
  {
   "cell_type": "code",
   "execution_count": null,
   "metadata": {},
   "outputs": [
    {
     "name": "stdout",
     "output_type": "stream",
     "text": [
      "Starting TensorBoard b'47' at http://0.0.0.0:6006\n",
      "(Press CTRL+C to quit)\n",
      "WARNING:tensorflow:path ../external/favicon.ico not found, sending 404\n",
      "WARNING:tensorflow:path ../external/data/plugin/text/runs not found, sending 404\n",
      "WARNING:tensorflow:path ../external/data/plugin/text/runs not found, sending 404\n",
      "WARNING:tensorflow:path ../external/data/plugin/text/runs not found, sending 404\n",
      "WARNING:tensorflow:path ../external/data/plugin/text/runs not found, sending 404\n"
     ]
    }
   ],
   "source": [
    "!tensorboard --logdir=my_log_dir"
   ]
  },
  {
   "cell_type": "code",
   "execution_count": null,
   "metadata": {},
   "outputs": [],
   "source": []
  }
 ],
 "metadata": {
  "kernelspec": {
   "display_name": "Python [default]",
   "language": "python",
   "name": "python3"
  },
  "language_info": {
   "codemirror_mode": {
    "name": "ipython",
    "version": 3
   },
   "file_extension": ".py",
   "mimetype": "text/x-python",
   "name": "python",
   "nbconvert_exporter": "python",
   "pygments_lexer": "ipython3",
   "version": "3.5.4"
  }
 },
 "nbformat": 4,
 "nbformat_minor": 2
}
