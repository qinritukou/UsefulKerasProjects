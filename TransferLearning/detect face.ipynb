{
 "cells": [
  {
   "cell_type": "code",
   "execution_count": 20,
   "metadata": {},
   "outputs": [
    {
     "name": "stdout",
     "output_type": "stream",
     "text": [
      "Collecting opencv-python\n",
      "  Downloading opencv_python-3.4.0.12-cp35-cp35m-macosx_10_6_intel.macosx_10_9_intel.macosx_10_9_x86_64.macosx_10_10_intel.macosx_10_10_x86_64.whl (41.2MB)\n",
      "\u001b[K    100% |████████████████████████████████| 41.2MB 42kB/s eta 0:00:011\n",
      "\u001b[?25hRequirement already satisfied: numpy>=1.11.1 in /Users/developer/anaconda/lib/python3.5/site-packages (from opencv-python)\n",
      "Installing collected packages: opencv-python\n",
      "Successfully installed opencv-python-3.4.0.12\n"
     ]
    }
   ],
   "source": [
    "# install if needed\n",
    "#!pip install opencv-python"
   ]
  },
  {
   "cell_type": "code",
   "execution_count": 22,
   "metadata": {},
   "outputs": [],
   "source": [
    "import os \n",
    "import cv2"
   ]
  },
  {
   "cell_type": "code",
   "execution_count": 57,
   "metadata": {},
   "outputs": [],
   "source": [
    "def detect_faces(srcpath, dstpath):\n",
    "    face_cascade = cv2.CascadeClassifier('haarcascade_frontalface_default.xml')\n",
    "    image = cv2.imread(srcpath)\n",
    "    gray_image = cv2.cvtColor(image, cv2.COLOR_BGR2GRAY) #cv2.cvtColor(image, cv2.COLOR_BGR2GRAY)\n",
    "    faces = face_cascade.detectMultiScale(gray_image, 1.3, 5)\n",
    "    # Extract when just one face is detected\n",
    "    print('{} detected face count: {}'.format(srcpath, len(faces)))\n",
    "    if (len(faces) == 1):\n",
    "        (x, y, w, h) = faces[0]\n",
    "        gray_image = gray_image[y:y+h, x:x+w]\n",
    "        gray_image = cv2.resize(gray_image, (150, 150))\n",
    "        cv2.imwrite(dstpath, gray_image)\n"
   ]
  },
  {
   "cell_type": "code",
   "execution_count": 60,
   "metadata": {},
   "outputs": [
    {
     "name": "stdout",
     "output_type": "stream",
     "text": [
      "/Users/developer/Documents/git/opensource/UsefulKerasProjects/TransferLearning/PredictData/demo.jpg detected face count: 1\n"
     ]
    }
   ],
   "source": [
    "cwd = os.getcwd()\n",
    "base_dir = os.path.join(cwd, 'PredictData')\n",
    "\n",
    "srcpath = os.path.join(base_dir, 'demo.jpg')\n",
    "dstpath = os.path.join(base_dir, 'demo_face.jpg')\n",
    "detect_faces(srcpath, dstpath)"
   ]
  },
  {
   "cell_type": "code",
   "execution_count": 68,
   "metadata": {},
   "outputs": [
    {
     "name": "stdout",
     "output_type": "stream",
     "text": [
      "demo.jpg      demo_face.jpg\r\n"
     ]
    }
   ],
   "source": [
    "!ls ./PredictData"
   ]
  }
 ],
 "metadata": {
  "kernelspec": {
   "display_name": "Python [default]",
   "language": "python",
   "name": "python3"
  },
  "language_info": {
   "codemirror_mode": {
    "name": "ipython",
    "version": 3
   },
   "file_extension": ".py",
   "mimetype": "text/x-python",
   "name": "python",
   "nbconvert_exporter": "python",
   "pygments_lexer": "ipython3",
   "version": "3.5.4"
  }
 },
 "nbformat": 4,
 "nbformat_minor": 2
}
